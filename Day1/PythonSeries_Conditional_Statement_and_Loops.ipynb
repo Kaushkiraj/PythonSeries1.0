{
  "nbformat": 4,
  "nbformat_minor": 0,
  "metadata": {
    "colab": {
      "name": "PythonSeries-Conditional Statement and Loops",
      "provenance": [],
      "collapsed_sections": []
    },
    "kernelspec": {
      "name": "python3",
      "display_name": "Python 3"
    }
  },
  "cells": [
    {
      "cell_type": "code",
      "metadata": {
        "id": "hgHXFGM4Nl9s",
        "colab_type": "code",
        "colab": {
          "base_uri": "https://localhost:8080/",
          "height": 34
        },
        "outputId": "f930f421-69eb-4177-cd76-bd7fb2c79a90"
      },
      "source": [
        "print(\"Hello World\")"
      ],
      "execution_count": null,
      "outputs": [
        {
          "output_type": "stream",
          "text": [
            "Hello World\n"
          ],
          "name": "stdout"
        }
      ]
    },
    {
      "cell_type": "markdown",
      "metadata": {
        "id": "m6PpGi5YFC99",
        "colab_type": "text"
      },
      "source": [
        "<a href=\"https://colab.research.google.com/drive/1qJ2rpe2GDA3Xn8lQASQj-jCh_C4K5CU-#scrollTo=m6PpGi5YFC99\" target=\"_parent\"><img src=\"https://colab.research.google.com/assets/colab-badge.svg\" alt=\"Open In Colab\"/></a>"
      ]
    },
    {
      "cell_type": "markdown",
      "metadata": {
        "id": "xTgVO8f3_cxG",
        "colab_type": "text"
      },
      "source": [
        "\n",
        "<p align = center>\n",
        "<img src = \"https://drive.google.com/uc?export=view&id=1bLV_DO3vjYotaRcOAKIcQfE5TV8c1VbB\" >\n",
        "</p>\n",
        "\n",
        "\n",
        "\n",
        "\n"
      ]
    },
    {
      "cell_type": "code",
      "metadata": {
        "id": "mpI8hWvzrXLS",
        "colab_type": "code",
        "colab": {}
      },
      "source": [
        "# Lets start with the basics"
      ],
      "execution_count": null,
      "outputs": []
    },
    {
      "cell_type": "markdown",
      "metadata": {
        "id": "-lCl9U3UF488",
        "colab_type": "text"
      },
      "source": [
        " < img src=\"https://images.unsplash.com/photo-1522857884396-6d2c1c34e4e6?ixlib=rb-1.2.1&ixid=eyJhcHBfaWQiOjEyMDd9&auto=format&fit=crop&w=1050&q=80\">"
      ]
    },
    {
      "cell_type": "markdown",
      "metadata": {
        "id": "UoavBbsxi1N3",
        "colab_type": "text"
      },
      "source": [
        "# Lets start with the basics"
      ]
    },
    {
      "cell_type": "markdown",
      "metadata": {
        "id": "P8oRggBM4yc-",
        "colab_type": "text"
      },
      "source": [
        "\n",
        "<img src = \"https://drive.google.com/uc?export=view&id=1lWwP58LUKLIrZpdYm30GIkC0YMoht1Ma\" align = \"right\" height = \"400px\">\n",
        "\n",
        "\n",
        "< img src = \"https://i.imgflip.com/2667n9.jpg\" align = \"right\" height = \"400px\">\n",
        "\n"
      ]
    },
    {
      "cell_type": "markdown",
      "metadata": {
        "id": "y0r6vEzTqwr3",
        "colab_type": "text"
      },
      "source": [
        "# What we will be covering today: \n",
        " - Conditional statements\n",
        " - Loops in python"
      ]
    },
    {
      "cell_type": "markdown",
      "metadata": {
        "id": "3WwXv6ODOsjA",
        "colab_type": "text"
      },
      "source": [
        "## What is if...else statement in Python?\n",
        "\n",
        "- Decision making is required when we want to execute a code only if a certain-  condition is satisfied.\n",
        "- \n",
        " The if…elif…else statement is used in Python for decision making.\n",
        "<img src = \"https://cdn.programiz.com/sites/tutorial2program/files/Python_if_statement.jpg\">\n",
        "\n",
        "- Python if Statement Syntax\n",
        "\n",
        "\n",
        "    if test_expression:\n",
        "        statement(s)\n",
        "\n"
      ]
    },
    {
      "cell_type": "code",
      "metadata": {
        "id": "aNuGAL4DrYP1",
        "colab_type": "code",
        "colab": {}
      },
      "source": [
        "x = 2\n",
        "print(x == 2) # prints out True\n",
        "print(x == 3) # prints out False\n",
        "print(x < 3) # prints out True"
      ],
      "execution_count": null,
      "outputs": []
    },
    {
      "cell_type": "code",
      "metadata": {
        "id": "LmYePMO4CmDe",
        "colab_type": "code",
        "colab": {}
      },
      "source": [
        ""
      ],
      "execution_count": null,
      "outputs": []
    },
    {
      "cell_type": "code",
      "metadata": {
        "id": "R90wgM5JCmIi",
        "colab_type": "code",
        "colab": {}
      },
      "source": [
        ""
      ],
      "execution_count": null,
      "outputs": []
    },
    {
      "cell_type": "code",
      "metadata": {
        "id": "dreqbcZEuH6t",
        "colab_type": "code",
        "colab": {}
      },
      "source": [
        "x = 2\n",
        "if x == 2:\n",
        "    print(\"x equals two!\")\n",
        "else:\n",
        "    print(\"x does not equal to two.\")"
      ],
      "execution_count": null,
      "outputs": []
    },
    {
      "cell_type": "code",
      "metadata": {
        "id": "pAw2wync6fok",
        "colab_type": "code",
        "colab": {}
      },
      "source": [
        "# Is one liner possible for this?🤔"
      ],
      "execution_count": null,
      "outputs": []
    },
    {
      "cell_type": "markdown",
      "metadata": {
        "id": "SEVIvRXu_aDu",
        "colab_type": "text"
      },
      "source": [
        "< img src = \"https://drive.google.com/uc?export=view&id=1BHOF9ymaq62HrS05ycedc_x0s11PtgDY\" align = \"right\" height = \"400px\">\n",
        "\n",
        "\n"
      ]
    },
    {
      "cell_type": "code",
      "metadata": {
        "id": "cQdYsrx1sF_w",
        "colab_type": "code",
        "colab": {}
      },
      "source": [
        "name = \"John\"\n",
        "age = 23\n",
        "\n",
        "\n",
        "if name == \"John\" and age == 23:\n",
        "    print(\"Your name is John, and you are also 23 years old.\")\n",
        "\n",
        "if name == \"John\" or name == \"Rick\":\n",
        "    print(\"Your name is either John or Rick.\")\n",
        "\n"
      ],
      "execution_count": null,
      "outputs": []
    },
    {
      "cell_type": "code",
      "metadata": {
        "id": "Ie2Ulf8AQ1Et",
        "colab_type": "code",
        "colab": {}
      },
      "source": [
        ""
      ],
      "execution_count": null,
      "outputs": []
    },
    {
      "cell_type": "code",
      "metadata": {
        "id": "o6vc1Zy7Q0G0",
        "colab_type": "code",
        "colab": {}
      },
      "source": [
        "name = \"John\"\n",
        "if name in [\"John\", \"Rick\"]:\n",
        "    print(\"Your name is either John or Rick.\")"
      ],
      "execution_count": null,
      "outputs": []
    },
    {
      "cell_type": "code",
      "metadata": {
        "id": "lrp8uceJQ-mj",
        "colab_type": "code",
        "colab": {}
      },
      "source": [
        ""
      ],
      "execution_count": null,
      "outputs": []
    },
    {
      "cell_type": "markdown",
      "metadata": {
        "id": "p37jc5lQROGQ",
        "colab_type": "text"
      },
      "source": [
        "<p align = \"center\">\n",
        "< img src=\"https://i.redd.it/6rbq35occu441.jpg\" height=\"300px\">\n",
        "</p>"
      ]
    },
    {
      "cell_type": "code",
      "metadata": {
        "id": "nWKUmDefRNBQ",
        "colab_type": "code",
        "colab": {}
      },
      "source": [
        ""
      ],
      "execution_count": null,
      "outputs": []
    },
    {
      "cell_type": "code",
      "metadata": {
        "id": "fzXcVCwHQyx4",
        "colab_type": "code",
        "colab": {}
      },
      "source": [
        ""
      ],
      "execution_count": null,
      "outputs": []
    },
    {
      "cell_type": "code",
      "metadata": {
        "id": "JSfTa6cHsMdA",
        "colab_type": "code",
        "colab": {}
      },
      "source": [
        "statement = False\n",
        "another_statement = True\n",
        "if statement is True:              # if\n",
        "    print(\"If executed\")           # do this\n",
        "else if another_statement is True: # else if\n",
        "    print(\"Else if executed\")      # do something else\n",
        "else:                              # else\n",
        "    print(\"Else executed\")         # do another thing"
      ],
      "execution_count": null,
      "outputs": []
    },
    {
      "cell_type": "code",
      "metadata": {
        "id": "58n-M-9_PvlB",
        "colab_type": "code",
        "colab": {}
      },
      "source": [
        "'''\n",
        "In this program, we input a number check if the number is positive or negative or zero and display an appropriate message\n",
        "This time we use nested if statement\n",
        "'''\n",
        "\n",
        "num = float(input(\"Enter a number: \"))\n",
        "if num >= 0:\n",
        "    if num == 0:\n",
        "        print(\"Zero\")\n",
        "    else:\n",
        "        print(\"Positive number\")\n",
        "else:\n",
        "    print(\"Negative number\")"
      ],
      "execution_count": null,
      "outputs": []
    },
    {
      "cell_type": "code",
      "metadata": {
        "id": "vqWRQm5AsPR-",
        "colab_type": "code",
        "colab": {}
      },
      "source": [
        "x = [1,2,3]\n",
        "y = [1,2,3]\n",
        "print(x == y) # Prints out True\n",
        "print(x is y) # Prints out False"
      ],
      "execution_count": null,
      "outputs": []
    },
    {
      "cell_type": "code",
      "metadata": {
        "id": "OPVPBCdqsMqD",
        "colab_type": "code",
        "colab": {}
      },
      "source": [
        ""
      ],
      "execution_count": null,
      "outputs": []
    },
    {
      "cell_type": "code",
      "metadata": {
        "id": "mhv5r0cYtFED",
        "colab_type": "code",
        "colab": {}
      },
      "source": [
        ""
      ],
      "execution_count": null,
      "outputs": []
    },
    {
      "cell_type": "markdown",
      "metadata": {
        "id": "POctP0KcyqZL",
        "colab_type": "text"
      },
      "source": [
        "<img src = \"https://drive.google.com/uc?export=view&id=1-cDNHCP3NiTWVHzUJmBBnm69fzGzO8We\">\n",
        "\n",
        "< img src = \"https://drive.google.com/uc?export=view&id=1Vq6E0ImiNICQZjTIrzcGEW6xwDnsgda4\" align = \"right\">\n",
        "\n",
        "\n",
        "\n"
      ]
    },
    {
      "cell_type": "code",
      "metadata": {
        "id": "kQ9v635CsGJB",
        "colab_type": "code",
        "colab": {}
      },
      "source": [
        ""
      ],
      "execution_count": null,
      "outputs": []
    },
    {
      "cell_type": "markdown",
      "metadata": {
        "id": "orU_yrGCQKI0",
        "colab_type": "text"
      },
      "source": [
        "# What is for loop in Python?\n",
        "\n",
        "The for loop in Python is used to iterate over a sequence (list, tuple, string) or other iterable objects. Iterating over a sequence is called traversal.\n",
        "\n",
        "<img src = \"https://cdn.programiz.com/sites/tutorial2program/files/forLoop.jpg\">\n",
        "\n",
        "- Syntax\n",
        "\n",
        "\n",
        "    for val in sequence:\n",
        "        Body_of_for"
      ]
    },
    {
      "cell_type": "code",
      "metadata": {
        "id": "J47X1GeUrYio",
        "colab_type": "code",
        "colab": {}
      },
      "source": [
        "primes = [2, 3, 5, 7]\n",
        "for prime in primes:\n",
        "    print(prime)"
      ],
      "execution_count": null,
      "outputs": []
    },
    {
      "cell_type": "code",
      "metadata": {
        "id": "_ykRf0AbrYnS",
        "colab_type": "code",
        "colab": {}
      },
      "source": [
        "# Prints out the numbers 0,1,2,3,4\n",
        "for x in range(5):\n",
        "    print(x)\n",
        "\n",
        "# Prints out 3,4,5\n",
        "for x in range(3, 6):\n",
        "    print(x)\n",
        "\n",
        "# Prints out 3,5,7\n",
        "for x in range(3, 8, 2):\n",
        "    print(x)"
      ],
      "execution_count": null,
      "outputs": []
    },
    {
      "cell_type": "code",
      "metadata": {
        "id": "q53oSINmrYsc",
        "colab_type": "code",
        "colab": {}
      },
      "source": [
        "count = 0\n",
        "while count < 5:\n",
        "    print(count)\n",
        "    count += 1  # This is the same as count = count + 1"
      ],
      "execution_count": null,
      "outputs": []
    },
    {
      "cell_type": "code",
      "metadata": {
        "id": "a8APrpYlrYxL",
        "colab_type": "code",
        "colab": {}
      },
      "source": [
        "count = 0\n",
        "while True:\n",
        "    print(count)\n",
        "    count += 1\n",
        "    if count >= 5:\n",
        "        break\n",
        "\n",
        "# Prints out only odd numbers - 1,3,5,7,9\n",
        "for x in range(10):\n",
        "    # Check if x is even\n",
        "    if x % 2 == 0:\n",
        "        continue\n",
        "    print(x)"
      ],
      "execution_count": null,
      "outputs": []
    },
    {
      "cell_type": "code",
      "metadata": {
        "id": "IsnbwJAurY2c",
        "colab_type": "code",
        "colab": {
          "base_uri": "https://localhost:8080/",
          "height": 122
        },
        "outputId": "dd6ac9ff-72cb-413a-88af-a099943c31c1"
      },
      "source": [
        "count=0\n",
        "while count<5:\n",
        "    print(count)\n",
        "    count +=1\n",
        "else:\n",
        "    print(\"count value reached %d\" %(count))\n"
      ],
      "execution_count": null,
      "outputs": [
        {
          "output_type": "stream",
          "text": [
            "0\n",
            "1\n",
            "2\n",
            "3\n",
            "4\n",
            "count value reached 5\n"
          ],
          "name": "stdout"
        }
      ]
    },
    {
      "cell_type": "code",
      "metadata": {
        "id": "EWcuYTUPQW_p",
        "colab_type": "code",
        "colab": {
          "base_uri": "https://localhost:8080/",
          "height": 87
        },
        "outputId": "cc95f374-b9b4-4b69-c07f-67308a8a9a31"
      },
      "source": [
        "\n",
        "# Prints out 1,2,3,4\n",
        "for i in range(1, 10):\n",
        "    if i%5==0:\n",
        "        break\n",
        "    print(i)\n",
        "else:\n",
        "    print(\"this is not printed because for loop is terminated because of break but not due to fail in condition\")"
      ],
      "execution_count": null,
      "outputs": [
        {
          "output_type": "stream",
          "text": [
            "1\n",
            "2\n",
            "3\n",
            "4\n"
          ],
          "name": "stdout"
        }
      ]
    },
    {
      "cell_type": "code",
      "metadata": {
        "id": "xFzqYytnrwsU",
        "colab_type": "code",
        "colab": {}
      },
      "source": [
        "# Home work : Try to implement a do while loop in python"
      ],
      "execution_count": null,
      "outputs": []
    }
  ]
}